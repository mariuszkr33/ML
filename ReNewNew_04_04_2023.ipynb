{
  "nbformat": 4,
  "nbformat_minor": 0,
  "metadata": {
    "colab": {
      "provenance": [],
      "authorship_tag": "ABX9TyNOGlgtb5a++GPrcmfLajtw",
      "include_colab_link": true
    },
    "kernelspec": {
      "name": "python3",
      "display_name": "Python 3"
    },
    "language_info": {
      "name": "python"
    }
  },
  "cells": [
    {
      "cell_type": "markdown",
      "metadata": {
        "id": "view-in-github",
        "colab_type": "text"
      },
      "source": [
        "<a href=\"https://colab.research.google.com/github/mariuszkr33/ML/blob/main/ReNewNew_04_04_2023.ipynb\" target=\"_parent\"><img src=\"https://colab.research.google.com/assets/colab-badge.svg\" alt=\"Open In Colab\"/></a>"
      ]
    },
    {
      "cell_type": "code",
      "execution_count": 1,
      "metadata": {
        "id": "_irbmt5myV6V"
      },
      "outputs": [],
      "source": [
        "import pandas as pd\n",
        "import numpy as np\n",
        "np.random.seed(0)\n",
        "\n",
        "from sklearn.model_selection import cross_val_score, train_test_split, GroupKFold\n",
        "from sklearn.metrics import mean_squared_error\n",
        "from sklearn.linear_model import LinearRegression\n",
        "#import scikitplot as skplt\n",
        "#import eli5\n",
        "\n",
        "import xgboost as xgb\n",
        "\n",
        "import matplotlib.pyplot as plt\n",
        "import seaborn as sns\n",
        "%matplotlib inline"
      ]
    },
    {
      "cell_type": "code",
      "source": [
        "from google.colab import drive\n",
        "drive.mount('/content/drive')"
      ],
      "metadata": {
        "colab": {
          "base_uri": "https://localhost:8080/"
        },
        "id": "yjpN4mN8ymFt",
        "outputId": "f78ae1ac-d23c-4aba-bf88-3b8941df143d"
      },
      "execution_count": 2,
      "outputs": [
        {
          "output_type": "stream",
          "name": "stdout",
          "text": [
            "Mounted at /content/drive\n"
          ]
        }
      ]
    },
    {
      "cell_type": "code",
      "source": [
        "df_train = pd.read_csv(r'/content/drive/MyDrive/ReNew_Participants_Data/train.csv')\n",
        "df_test = pd.read_csv(r'/content/drive/MyDrive/ReNew_Participants_Data/test.csv')"
      ],
      "metadata": {
        "id": "1I6ktIgGyrwL"
      },
      "execution_count": 3,
      "outputs": []
    },
    {
      "cell_type": "code",
      "source": [
        "df_train.sample()"
      ],
      "metadata": {
        "colab": {
          "base_uri": "https://localhost:8080/",
          "height": 162
        },
        "id": "J78t8kAoyzeA",
        "outputId": "80f474dc-ead0-4b5c-805d-b3aacb445d32"
      },
      "execution_count": 4,
      "outputs": [
        {
          "output_type": "execute_result",
          "data": {
            "text/plain": [
              "                  timestamp  active_power_calculated_by_converter  \\\n",
              "755874  2021-09-26 13:50:00                             33.491756   \n",
              "\n",
              "        active_power_raw  ambient_temperature  generator_speed  \\\n",
              "755874         45.088872            34.854703       747.629873   \n",
              "\n",
              "        generator_winding_temp_max  grid_power10min_average  nc1_inside_temp  \\\n",
              "755874                   55.508633                30.666582        34.390779   \n",
              "\n",
              "        nacelle_temp  reactice_power_calculated_by_converter  reactive_power  \\\n",
              "755874     32.547852                                1.406529       -0.480113   \n",
              "\n",
              "        wind_direction_raw  wind_speed_raw  wind_speed_turbulence  turbine_id  \\\n",
              "755874          335.564026        3.415115               0.310881  Turbine_97   \n",
              "\n",
              "           Target  \n",
              "755874  46.404673  "
            ],
            "text/html": [
              "\n",
              "  <div id=\"df-b9b76a5e-d204-4848-825f-f265260f1670\">\n",
              "    <div class=\"colab-df-container\">\n",
              "      <div>\n",
              "<style scoped>\n",
              "    .dataframe tbody tr th:only-of-type {\n",
              "        vertical-align: middle;\n",
              "    }\n",
              "\n",
              "    .dataframe tbody tr th {\n",
              "        vertical-align: top;\n",
              "    }\n",
              "\n",
              "    .dataframe thead th {\n",
              "        text-align: right;\n",
              "    }\n",
              "</style>\n",
              "<table border=\"1\" class=\"dataframe\">\n",
              "  <thead>\n",
              "    <tr style=\"text-align: right;\">\n",
              "      <th></th>\n",
              "      <th>timestamp</th>\n",
              "      <th>active_power_calculated_by_converter</th>\n",
              "      <th>active_power_raw</th>\n",
              "      <th>ambient_temperature</th>\n",
              "      <th>generator_speed</th>\n",
              "      <th>generator_winding_temp_max</th>\n",
              "      <th>grid_power10min_average</th>\n",
              "      <th>nc1_inside_temp</th>\n",
              "      <th>nacelle_temp</th>\n",
              "      <th>reactice_power_calculated_by_converter</th>\n",
              "      <th>reactive_power</th>\n",
              "      <th>wind_direction_raw</th>\n",
              "      <th>wind_speed_raw</th>\n",
              "      <th>wind_speed_turbulence</th>\n",
              "      <th>turbine_id</th>\n",
              "      <th>Target</th>\n",
              "    </tr>\n",
              "  </thead>\n",
              "  <tbody>\n",
              "    <tr>\n",
              "      <th>755874</th>\n",
              "      <td>2021-09-26 13:50:00</td>\n",
              "      <td>33.491756</td>\n",
              "      <td>45.088872</td>\n",
              "      <td>34.854703</td>\n",
              "      <td>747.629873</td>\n",
              "      <td>55.508633</td>\n",
              "      <td>30.666582</td>\n",
              "      <td>34.390779</td>\n",
              "      <td>32.547852</td>\n",
              "      <td>1.406529</td>\n",
              "      <td>-0.480113</td>\n",
              "      <td>335.564026</td>\n",
              "      <td>3.415115</td>\n",
              "      <td>0.310881</td>\n",
              "      <td>Turbine_97</td>\n",
              "      <td>46.404673</td>\n",
              "    </tr>\n",
              "  </tbody>\n",
              "</table>\n",
              "</div>\n",
              "      <button class=\"colab-df-convert\" onclick=\"convertToInteractive('df-b9b76a5e-d204-4848-825f-f265260f1670')\"\n",
              "              title=\"Convert this dataframe to an interactive table.\"\n",
              "              style=\"display:none;\">\n",
              "        \n",
              "  <svg xmlns=\"http://www.w3.org/2000/svg\" height=\"24px\"viewBox=\"0 0 24 24\"\n",
              "       width=\"24px\">\n",
              "    <path d=\"M0 0h24v24H0V0z\" fill=\"none\"/>\n",
              "    <path d=\"M18.56 5.44l.94 2.06.94-2.06 2.06-.94-2.06-.94-.94-2.06-.94 2.06-2.06.94zm-11 1L8.5 8.5l.94-2.06 2.06-.94-2.06-.94L8.5 2.5l-.94 2.06-2.06.94zm10 10l.94 2.06.94-2.06 2.06-.94-2.06-.94-.94-2.06-.94 2.06-2.06.94z\"/><path d=\"M17.41 7.96l-1.37-1.37c-.4-.4-.92-.59-1.43-.59-.52 0-1.04.2-1.43.59L10.3 9.45l-7.72 7.72c-.78.78-.78 2.05 0 2.83L4 21.41c.39.39.9.59 1.41.59.51 0 1.02-.2 1.41-.59l7.78-7.78 2.81-2.81c.8-.78.8-2.07 0-2.86zM5.41 20L4 18.59l7.72-7.72 1.47 1.35L5.41 20z\"/>\n",
              "  </svg>\n",
              "      </button>\n",
              "      \n",
              "  <style>\n",
              "    .colab-df-container {\n",
              "      display:flex;\n",
              "      flex-wrap:wrap;\n",
              "      gap: 12px;\n",
              "    }\n",
              "\n",
              "    .colab-df-convert {\n",
              "      background-color: #E8F0FE;\n",
              "      border: none;\n",
              "      border-radius: 50%;\n",
              "      cursor: pointer;\n",
              "      display: none;\n",
              "      fill: #1967D2;\n",
              "      height: 32px;\n",
              "      padding: 0 0 0 0;\n",
              "      width: 32px;\n",
              "    }\n",
              "\n",
              "    .colab-df-convert:hover {\n",
              "      background-color: #E2EBFA;\n",
              "      box-shadow: 0px 1px 2px rgba(60, 64, 67, 0.3), 0px 1px 3px 1px rgba(60, 64, 67, 0.15);\n",
              "      fill: #174EA6;\n",
              "    }\n",
              "\n",
              "    [theme=dark] .colab-df-convert {\n",
              "      background-color: #3B4455;\n",
              "      fill: #D2E3FC;\n",
              "    }\n",
              "\n",
              "    [theme=dark] .colab-df-convert:hover {\n",
              "      background-color: #434B5C;\n",
              "      box-shadow: 0px 1px 3px 1px rgba(0, 0, 0, 0.15);\n",
              "      filter: drop-shadow(0px 1px 2px rgba(0, 0, 0, 0.3));\n",
              "      fill: #FFFFFF;\n",
              "    }\n",
              "  </style>\n",
              "\n",
              "      <script>\n",
              "        const buttonEl =\n",
              "          document.querySelector('#df-b9b76a5e-d204-4848-825f-f265260f1670 button.colab-df-convert');\n",
              "        buttonEl.style.display =\n",
              "          google.colab.kernel.accessAllowed ? 'block' : 'none';\n",
              "\n",
              "        async function convertToInteractive(key) {\n",
              "          const element = document.querySelector('#df-b9b76a5e-d204-4848-825f-f265260f1670');\n",
              "          const dataTable =\n",
              "            await google.colab.kernel.invokeFunction('convertToInteractive',\n",
              "                                                     [key], {});\n",
              "          if (!dataTable) return;\n",
              "\n",
              "          const docLinkHtml = 'Like what you see? Visit the ' +\n",
              "            '<a target=\"_blank\" href=https://colab.research.google.com/notebooks/data_table.ipynb>data table notebook</a>'\n",
              "            + ' to learn more about interactive tables.';\n",
              "          element.innerHTML = '';\n",
              "          dataTable['output_type'] = 'display_data';\n",
              "          await google.colab.output.renderOutput(dataTable, element);\n",
              "          const docLink = document.createElement('div');\n",
              "          docLink.innerHTML = docLinkHtml;\n",
              "          element.appendChild(docLink);\n",
              "        }\n",
              "      </script>\n",
              "    </div>\n",
              "  </div>\n",
              "  "
            ]
          },
          "metadata": {},
          "execution_count": 4
        }
      ]
    },
    {
      "cell_type": "code",
      "source": [
        "df_train.shape"
      ],
      "metadata": {
        "colab": {
          "base_uri": "https://localhost:8080/"
        },
        "id": "SYY_X1g5ziI1",
        "outputId": "bce9d3bc-4e9d-452e-8675-1bab655bdfd5"
      },
      "execution_count": 5,
      "outputs": [
        {
          "output_type": "execute_result",
          "data": {
            "text/plain": [
              "(909604, 16)"
            ]
          },
          "metadata": {},
          "execution_count": 5
        }
      ]
    },
    {
      "cell_type": "code",
      "source": [
        "df_test.sample()"
      ],
      "metadata": {
        "colab": {
          "base_uri": "https://localhost:8080/",
          "height": 162
        },
        "id": "CkViEpJJzvvL",
        "outputId": "4d4be440-2d34-4328-9ed5-9d5225be6db9"
      },
      "execution_count": 6,
      "outputs": [
        {
          "output_type": "execute_result",
          "data": {
            "text/plain": [
              "                 timestamp  active_power_calculated_by_converter  \\\n",
              "91941  2021-12-20 00:07:00                           1300.364726   \n",
              "\n",
              "       active_power_raw  ambient_temperature  generator_speed  \\\n",
              "91941       1330.582926            22.680983      1200.487244   \n",
              "\n",
              "       generator_winding_temp_max  grid_power10min_average  nc1_inside_temp  \\\n",
              "91941                   59.856468               1262.01943        30.035873   \n",
              "\n",
              "       nacelle_temp  reactice_power_calculated_by_converter  reactive_power  \\\n",
              "91941     27.223031                              218.375659      267.377833   \n",
              "\n",
              "       wind_direction_raw  wind_speed_raw  wind_speed_turbulence   turbine_id  \n",
              "91941           106.63045        8.711982               0.633757  Turbine_120  "
            ],
            "text/html": [
              "\n",
              "  <div id=\"df-f0045cad-161e-4e6b-827e-6b6b5bd5567d\">\n",
              "    <div class=\"colab-df-container\">\n",
              "      <div>\n",
              "<style scoped>\n",
              "    .dataframe tbody tr th:only-of-type {\n",
              "        vertical-align: middle;\n",
              "    }\n",
              "\n",
              "    .dataframe tbody tr th {\n",
              "        vertical-align: top;\n",
              "    }\n",
              "\n",
              "    .dataframe thead th {\n",
              "        text-align: right;\n",
              "    }\n",
              "</style>\n",
              "<table border=\"1\" class=\"dataframe\">\n",
              "  <thead>\n",
              "    <tr style=\"text-align: right;\">\n",
              "      <th></th>\n",
              "      <th>timestamp</th>\n",
              "      <th>active_power_calculated_by_converter</th>\n",
              "      <th>active_power_raw</th>\n",
              "      <th>ambient_temperature</th>\n",
              "      <th>generator_speed</th>\n",
              "      <th>generator_winding_temp_max</th>\n",
              "      <th>grid_power10min_average</th>\n",
              "      <th>nc1_inside_temp</th>\n",
              "      <th>nacelle_temp</th>\n",
              "      <th>reactice_power_calculated_by_converter</th>\n",
              "      <th>reactive_power</th>\n",
              "      <th>wind_direction_raw</th>\n",
              "      <th>wind_speed_raw</th>\n",
              "      <th>wind_speed_turbulence</th>\n",
              "      <th>turbine_id</th>\n",
              "    </tr>\n",
              "  </thead>\n",
              "  <tbody>\n",
              "    <tr>\n",
              "      <th>91941</th>\n",
              "      <td>2021-12-20 00:07:00</td>\n",
              "      <td>1300.364726</td>\n",
              "      <td>1330.582926</td>\n",
              "      <td>22.680983</td>\n",
              "      <td>1200.487244</td>\n",
              "      <td>59.856468</td>\n",
              "      <td>1262.01943</td>\n",
              "      <td>30.035873</td>\n",
              "      <td>27.223031</td>\n",
              "      <td>218.375659</td>\n",
              "      <td>267.377833</td>\n",
              "      <td>106.63045</td>\n",
              "      <td>8.711982</td>\n",
              "      <td>0.633757</td>\n",
              "      <td>Turbine_120</td>\n",
              "    </tr>\n",
              "  </tbody>\n",
              "</table>\n",
              "</div>\n",
              "      <button class=\"colab-df-convert\" onclick=\"convertToInteractive('df-f0045cad-161e-4e6b-827e-6b6b5bd5567d')\"\n",
              "              title=\"Convert this dataframe to an interactive table.\"\n",
              "              style=\"display:none;\">\n",
              "        \n",
              "  <svg xmlns=\"http://www.w3.org/2000/svg\" height=\"24px\"viewBox=\"0 0 24 24\"\n",
              "       width=\"24px\">\n",
              "    <path d=\"M0 0h24v24H0V0z\" fill=\"none\"/>\n",
              "    <path d=\"M18.56 5.44l.94 2.06.94-2.06 2.06-.94-2.06-.94-.94-2.06-.94 2.06-2.06.94zm-11 1L8.5 8.5l.94-2.06 2.06-.94-2.06-.94L8.5 2.5l-.94 2.06-2.06.94zm10 10l.94 2.06.94-2.06 2.06-.94-2.06-.94-.94-2.06-.94 2.06-2.06.94z\"/><path d=\"M17.41 7.96l-1.37-1.37c-.4-.4-.92-.59-1.43-.59-.52 0-1.04.2-1.43.59L10.3 9.45l-7.72 7.72c-.78.78-.78 2.05 0 2.83L4 21.41c.39.39.9.59 1.41.59.51 0 1.02-.2 1.41-.59l7.78-7.78 2.81-2.81c.8-.78.8-2.07 0-2.86zM5.41 20L4 18.59l7.72-7.72 1.47 1.35L5.41 20z\"/>\n",
              "  </svg>\n",
              "      </button>\n",
              "      \n",
              "  <style>\n",
              "    .colab-df-container {\n",
              "      display:flex;\n",
              "      flex-wrap:wrap;\n",
              "      gap: 12px;\n",
              "    }\n",
              "\n",
              "    .colab-df-convert {\n",
              "      background-color: #E8F0FE;\n",
              "      border: none;\n",
              "      border-radius: 50%;\n",
              "      cursor: pointer;\n",
              "      display: none;\n",
              "      fill: #1967D2;\n",
              "      height: 32px;\n",
              "      padding: 0 0 0 0;\n",
              "      width: 32px;\n",
              "    }\n",
              "\n",
              "    .colab-df-convert:hover {\n",
              "      background-color: #E2EBFA;\n",
              "      box-shadow: 0px 1px 2px rgba(60, 64, 67, 0.3), 0px 1px 3px 1px rgba(60, 64, 67, 0.15);\n",
              "      fill: #174EA6;\n",
              "    }\n",
              "\n",
              "    [theme=dark] .colab-df-convert {\n",
              "      background-color: #3B4455;\n",
              "      fill: #D2E3FC;\n",
              "    }\n",
              "\n",
              "    [theme=dark] .colab-df-convert:hover {\n",
              "      background-color: #434B5C;\n",
              "      box-shadow: 0px 1px 3px 1px rgba(0, 0, 0, 0.15);\n",
              "      filter: drop-shadow(0px 1px 2px rgba(0, 0, 0, 0.3));\n",
              "      fill: #FFFFFF;\n",
              "    }\n",
              "  </style>\n",
              "\n",
              "      <script>\n",
              "        const buttonEl =\n",
              "          document.querySelector('#df-f0045cad-161e-4e6b-827e-6b6b5bd5567d button.colab-df-convert');\n",
              "        buttonEl.style.display =\n",
              "          google.colab.kernel.accessAllowed ? 'block' : 'none';\n",
              "\n",
              "        async function convertToInteractive(key) {\n",
              "          const element = document.querySelector('#df-f0045cad-161e-4e6b-827e-6b6b5bd5567d');\n",
              "          const dataTable =\n",
              "            await google.colab.kernel.invokeFunction('convertToInteractive',\n",
              "                                                     [key], {});\n",
              "          if (!dataTable) return;\n",
              "\n",
              "          const docLinkHtml = 'Like what you see? Visit the ' +\n",
              "            '<a target=\"_blank\" href=https://colab.research.google.com/notebooks/data_table.ipynb>data table notebook</a>'\n",
              "            + ' to learn more about interactive tables.';\n",
              "          element.innerHTML = '';\n",
              "          dataTable['output_type'] = 'display_data';\n",
              "          await google.colab.output.renderOutput(dataTable, element);\n",
              "          const docLink = document.createElement('div');\n",
              "          docLink.innerHTML = docLinkHtml;\n",
              "          element.appendChild(docLink);\n",
              "        }\n",
              "      </script>\n",
              "    </div>\n",
              "  </div>\n",
              "  "
            ]
          },
          "metadata": {},
          "execution_count": 6
        }
      ]
    },
    {
      "cell_type": "code",
      "source": [
        "df_test.shape"
      ],
      "metadata": {
        "colab": {
          "base_uri": "https://localhost:8080/"
        },
        "id": "SbslH4Dgz0fd",
        "outputId": "5acd725d-6f0f-4b7e-a903-33a327d4ed15"
      },
      "execution_count": 7,
      "outputs": [
        {
          "output_type": "execute_result",
          "data": {
            "text/plain": [
              "(303202, 15)"
            ]
          },
          "metadata": {},
          "execution_count": 7
        }
      ]
    },
    {
      "cell_type": "code",
      "source": [
        "df_train.info()"
      ],
      "metadata": {
        "colab": {
          "base_uri": "https://localhost:8080/"
        },
        "id": "51CYMqq-z37C",
        "outputId": "7bae8555-105a-497c-b28c-2753be58e554"
      },
      "execution_count": 8,
      "outputs": [
        {
          "output_type": "stream",
          "name": "stdout",
          "text": [
            "<class 'pandas.core.frame.DataFrame'>\n",
            "RangeIndex: 909604 entries, 0 to 909603\n",
            "Data columns (total 16 columns):\n",
            " #   Column                                  Non-Null Count   Dtype  \n",
            "---  ------                                  --------------   -----  \n",
            " 0   timestamp                               909604 non-null  object \n",
            " 1   active_power_calculated_by_converter    909604 non-null  float64\n",
            " 2   active_power_raw                        909604 non-null  float64\n",
            " 3   ambient_temperature                     909604 non-null  float64\n",
            " 4   generator_speed                         909604 non-null  float64\n",
            " 5   generator_winding_temp_max              909604 non-null  float64\n",
            " 6   grid_power10min_average                 909604 non-null  float64\n",
            " 7   nc1_inside_temp                         909604 non-null  float64\n",
            " 8   nacelle_temp                            909604 non-null  float64\n",
            " 9   reactice_power_calculated_by_converter  909604 non-null  float64\n",
            " 10  reactive_power                          909604 non-null  float64\n",
            " 11  wind_direction_raw                      909604 non-null  float64\n",
            " 12  wind_speed_raw                          909604 non-null  float64\n",
            " 13  wind_speed_turbulence                   909604 non-null  float64\n",
            " 14  turbine_id                              909604 non-null  object \n",
            " 15  Target                                  909604 non-null  float64\n",
            "dtypes: float64(14), object(2)\n",
            "memory usage: 111.0+ MB\n"
          ]
        }
      ]
    },
    {
      "cell_type": "code",
      "source": [
        "df_train = df_train.sort_values(by=[\"turbine_id\"])"
      ],
      "metadata": {
        "id": "gFkbb1lp0Qjg"
      },
      "execution_count": 9,
      "outputs": []
    },
    {
      "cell_type": "code",
      "source": [
        "df_turbine = df_train[ [\"turbine_id\", \"Target\"] ].groupby([\"turbine_id\"]).agg([\"mean\", \"std\", \"median\", \"size\"])[\"Target\"].reset_index()\n",
        "df_turbine.head()"
      ],
      "metadata": {
        "colab": {
          "base_uri": "https://localhost:8080/",
          "height": 206
        },
        "id": "eGxz0I3T0cNY",
        "outputId": "3d03d777-1401-495e-c911-eec72bb8afd3"
      },
      "execution_count": 10,
      "outputs": [
        {
          "output_type": "execute_result",
          "data": {
            "text/plain": [
              "    turbine_id       mean       std     median   size\n",
              "0   Turbine_01  49.288458  3.342025  48.370728  54171\n",
              "1   Turbine_10  47.186210  2.236599  47.576019  55089\n",
              "2  Turbine_103  45.604759  1.819612  45.741870  56944\n",
              "3  Turbine_105  46.585878  2.211376  46.940166  57341\n",
              "4  Turbine_108  46.549006  1.834950  46.639037  57401"
            ],
            "text/html": [
              "\n",
              "  <div id=\"df-0c020f34-5a86-46d1-b7ab-ab35c54a7fa1\">\n",
              "    <div class=\"colab-df-container\">\n",
              "      <div>\n",
              "<style scoped>\n",
              "    .dataframe tbody tr th:only-of-type {\n",
              "        vertical-align: middle;\n",
              "    }\n",
              "\n",
              "    .dataframe tbody tr th {\n",
              "        vertical-align: top;\n",
              "    }\n",
              "\n",
              "    .dataframe thead th {\n",
              "        text-align: right;\n",
              "    }\n",
              "</style>\n",
              "<table border=\"1\" class=\"dataframe\">\n",
              "  <thead>\n",
              "    <tr style=\"text-align: right;\">\n",
              "      <th></th>\n",
              "      <th>turbine_id</th>\n",
              "      <th>mean</th>\n",
              "      <th>std</th>\n",
              "      <th>median</th>\n",
              "      <th>size</th>\n",
              "    </tr>\n",
              "  </thead>\n",
              "  <tbody>\n",
              "    <tr>\n",
              "      <th>0</th>\n",
              "      <td>Turbine_01</td>\n",
              "      <td>49.288458</td>\n",
              "      <td>3.342025</td>\n",
              "      <td>48.370728</td>\n",
              "      <td>54171</td>\n",
              "    </tr>\n",
              "    <tr>\n",
              "      <th>1</th>\n",
              "      <td>Turbine_10</td>\n",
              "      <td>47.186210</td>\n",
              "      <td>2.236599</td>\n",
              "      <td>47.576019</td>\n",
              "      <td>55089</td>\n",
              "    </tr>\n",
              "    <tr>\n",
              "      <th>2</th>\n",
              "      <td>Turbine_103</td>\n",
              "      <td>45.604759</td>\n",
              "      <td>1.819612</td>\n",
              "      <td>45.741870</td>\n",
              "      <td>56944</td>\n",
              "    </tr>\n",
              "    <tr>\n",
              "      <th>3</th>\n",
              "      <td>Turbine_105</td>\n",
              "      <td>46.585878</td>\n",
              "      <td>2.211376</td>\n",
              "      <td>46.940166</td>\n",
              "      <td>57341</td>\n",
              "    </tr>\n",
              "    <tr>\n",
              "      <th>4</th>\n",
              "      <td>Turbine_108</td>\n",
              "      <td>46.549006</td>\n",
              "      <td>1.834950</td>\n",
              "      <td>46.639037</td>\n",
              "      <td>57401</td>\n",
              "    </tr>\n",
              "  </tbody>\n",
              "</table>\n",
              "</div>\n",
              "      <button class=\"colab-df-convert\" onclick=\"convertToInteractive('df-0c020f34-5a86-46d1-b7ab-ab35c54a7fa1')\"\n",
              "              title=\"Convert this dataframe to an interactive table.\"\n",
              "              style=\"display:none;\">\n",
              "        \n",
              "  <svg xmlns=\"http://www.w3.org/2000/svg\" height=\"24px\"viewBox=\"0 0 24 24\"\n",
              "       width=\"24px\">\n",
              "    <path d=\"M0 0h24v24H0V0z\" fill=\"none\"/>\n",
              "    <path d=\"M18.56 5.44l.94 2.06.94-2.06 2.06-.94-2.06-.94-.94-2.06-.94 2.06-2.06.94zm-11 1L8.5 8.5l.94-2.06 2.06-.94-2.06-.94L8.5 2.5l-.94 2.06-2.06.94zm10 10l.94 2.06.94-2.06 2.06-.94-2.06-.94-.94-2.06-.94 2.06-2.06.94z\"/><path d=\"M17.41 7.96l-1.37-1.37c-.4-.4-.92-.59-1.43-.59-.52 0-1.04.2-1.43.59L10.3 9.45l-7.72 7.72c-.78.78-.78 2.05 0 2.83L4 21.41c.39.39.9.59 1.41.59.51 0 1.02-.2 1.41-.59l7.78-7.78 2.81-2.81c.8-.78.8-2.07 0-2.86zM5.41 20L4 18.59l7.72-7.72 1.47 1.35L5.41 20z\"/>\n",
              "  </svg>\n",
              "      </button>\n",
              "      \n",
              "  <style>\n",
              "    .colab-df-container {\n",
              "      display:flex;\n",
              "      flex-wrap:wrap;\n",
              "      gap: 12px;\n",
              "    }\n",
              "\n",
              "    .colab-df-convert {\n",
              "      background-color: #E8F0FE;\n",
              "      border: none;\n",
              "      border-radius: 50%;\n",
              "      cursor: pointer;\n",
              "      display: none;\n",
              "      fill: #1967D2;\n",
              "      height: 32px;\n",
              "      padding: 0 0 0 0;\n",
              "      width: 32px;\n",
              "    }\n",
              "\n",
              "    .colab-df-convert:hover {\n",
              "      background-color: #E2EBFA;\n",
              "      box-shadow: 0px 1px 2px rgba(60, 64, 67, 0.3), 0px 1px 3px 1px rgba(60, 64, 67, 0.15);\n",
              "      fill: #174EA6;\n",
              "    }\n",
              "\n",
              "    [theme=dark] .colab-df-convert {\n",
              "      background-color: #3B4455;\n",
              "      fill: #D2E3FC;\n",
              "    }\n",
              "\n",
              "    [theme=dark] .colab-df-convert:hover {\n",
              "      background-color: #434B5C;\n",
              "      box-shadow: 0px 1px 3px 1px rgba(0, 0, 0, 0.15);\n",
              "      filter: drop-shadow(0px 1px 2px rgba(0, 0, 0, 0.3));\n",
              "      fill: #FFFFFF;\n",
              "    }\n",
              "  </style>\n",
              "\n",
              "      <script>\n",
              "        const buttonEl =\n",
              "          document.querySelector('#df-0c020f34-5a86-46d1-b7ab-ab35c54a7fa1 button.colab-df-convert');\n",
              "        buttonEl.style.display =\n",
              "          google.colab.kernel.accessAllowed ? 'block' : 'none';\n",
              "\n",
              "        async function convertToInteractive(key) {\n",
              "          const element = document.querySelector('#df-0c020f34-5a86-46d1-b7ab-ab35c54a7fa1');\n",
              "          const dataTable =\n",
              "            await google.colab.kernel.invokeFunction('convertToInteractive',\n",
              "                                                     [key], {});\n",
              "          if (!dataTable) return;\n",
              "\n",
              "          const docLinkHtml = 'Like what you see? Visit the ' +\n",
              "            '<a target=\"_blank\" href=https://colab.research.google.com/notebooks/data_table.ipynb>data table notebook</a>'\n",
              "            + ' to learn more about interactive tables.';\n",
              "          element.innerHTML = '';\n",
              "          dataTable['output_type'] = 'display_data';\n",
              "          await google.colab.output.renderOutput(dataTable, element);\n",
              "          const docLink = document.createElement('div');\n",
              "          docLink.innerHTML = docLinkHtml;\n",
              "          element.appendChild(docLink);\n",
              "        }\n",
              "      </script>\n",
              "    </div>\n",
              "  </div>\n",
              "  "
            ]
          },
          "metadata": {},
          "execution_count": 10
        }
      ]
    },
    {
      "cell_type": "code",
      "source": [
        "df_train_ext = pd.merge(df_train, df_turbine, on=[\"turbine_id\"], how=\"left\").fillna(-1)\n",
        "df_test_ext = pd.merge(df_test, df_turbine, on=[\"turbine_id\"], how=\"left\").fillna(-1)\n",
        "df_train_ext.head()"
      ],
      "metadata": {
        "colab": {
          "base_uri": "https://localhost:8080/",
          "height": 357
        },
        "id": "VncZfLcw0mug",
        "outputId": "3440bf62-6bfc-403d-9a87-22c48189c561"
      },
      "execution_count": 11,
      "outputs": [
        {
          "output_type": "execute_result",
          "data": {
            "text/plain": [
              "             timestamp  active_power_calculated_by_converter  \\\n",
              "0  2021-03-26 00:27:00                            317.745799   \n",
              "1  2021-08-22 05:33:00                            247.187823   \n",
              "2  2021-05-23 19:49:00                            149.306491   \n",
              "3  2021-11-11 10:49:00                             26.142280   \n",
              "4  2021-07-14 15:08:00                             97.355926   \n",
              "\n",
              "   active_power_raw  ambient_temperature  generator_speed  \\\n",
              "0        322.015981            34.871678       848.178396   \n",
              "1        248.072744            31.406154       778.351400   \n",
              "2       1196.192232            35.320692         6.103759   \n",
              "3         39.120330            33.147231       785.187622   \n",
              "4        102.576240            36.209320       778.595540   \n",
              "\n",
              "   generator_winding_temp_max  grid_power10min_average  nc1_inside_temp  \\\n",
              "0                   67.905722               356.620722        31.263564   \n",
              "1                   56.940449               309.963074        29.224203   \n",
              "2                   79.718864              1060.928284        32.114172   \n",
              "3                   50.829192                20.329997        29.411789   \n",
              "4                   51.831118                21.149041        32.748087   \n",
              "\n",
              "   nacelle_temp  reactice_power_calculated_by_converter  reactive_power  \\\n",
              "0     34.804127                              104.915122      131.444270   \n",
              "1     31.286025                               27.074919       44.535753   \n",
              "2     35.241397                               -1.012690        0.809419   \n",
              "3     32.939673                                1.495129        1.374825   \n",
              "4     36.114233                                1.768352        1.642608   \n",
              "\n",
              "   wind_direction_raw  wind_speed_raw  wind_speed_turbulence  turbine_id  \\\n",
              "0          123.696144        5.488043               0.392889  Turbine_01   \n",
              "1          319.350937        5.208137               0.452404  Turbine_01   \n",
              "2          318.546015        8.264057               1.382773  Turbine_01   \n",
              "3          159.353495        3.115742               0.527393  Turbine_01   \n",
              "4          148.833809        3.169921               0.521003  Turbine_01   \n",
              "\n",
              "      Target       mean       std     median   size  \n",
              "0  56.621962  49.288458  3.342025  48.370728  54171  \n",
              "1  47.564577  49.288458  3.342025  48.370728  54171  \n",
              "2  51.007408  49.288458  3.342025  48.370728  54171  \n",
              "3  47.833076  49.288458  3.342025  48.370728  54171  \n",
              "4  49.604198  49.288458  3.342025  48.370728  54171  "
            ],
            "text/html": [
              "\n",
              "  <div id=\"df-b0a7e7c7-5b33-4463-8343-e0bda85670e4\">\n",
              "    <div class=\"colab-df-container\">\n",
              "      <div>\n",
              "<style scoped>\n",
              "    .dataframe tbody tr th:only-of-type {\n",
              "        vertical-align: middle;\n",
              "    }\n",
              "\n",
              "    .dataframe tbody tr th {\n",
              "        vertical-align: top;\n",
              "    }\n",
              "\n",
              "    .dataframe thead th {\n",
              "        text-align: right;\n",
              "    }\n",
              "</style>\n",
              "<table border=\"1\" class=\"dataframe\">\n",
              "  <thead>\n",
              "    <tr style=\"text-align: right;\">\n",
              "      <th></th>\n",
              "      <th>timestamp</th>\n",
              "      <th>active_power_calculated_by_converter</th>\n",
              "      <th>active_power_raw</th>\n",
              "      <th>ambient_temperature</th>\n",
              "      <th>generator_speed</th>\n",
              "      <th>generator_winding_temp_max</th>\n",
              "      <th>grid_power10min_average</th>\n",
              "      <th>nc1_inside_temp</th>\n",
              "      <th>nacelle_temp</th>\n",
              "      <th>reactice_power_calculated_by_converter</th>\n",
              "      <th>reactive_power</th>\n",
              "      <th>wind_direction_raw</th>\n",
              "      <th>wind_speed_raw</th>\n",
              "      <th>wind_speed_turbulence</th>\n",
              "      <th>turbine_id</th>\n",
              "      <th>Target</th>\n",
              "      <th>mean</th>\n",
              "      <th>std</th>\n",
              "      <th>median</th>\n",
              "      <th>size</th>\n",
              "    </tr>\n",
              "  </thead>\n",
              "  <tbody>\n",
              "    <tr>\n",
              "      <th>0</th>\n",
              "      <td>2021-03-26 00:27:00</td>\n",
              "      <td>317.745799</td>\n",
              "      <td>322.015981</td>\n",
              "      <td>34.871678</td>\n",
              "      <td>848.178396</td>\n",
              "      <td>67.905722</td>\n",
              "      <td>356.620722</td>\n",
              "      <td>31.263564</td>\n",
              "      <td>34.804127</td>\n",
              "      <td>104.915122</td>\n",
              "      <td>131.444270</td>\n",
              "      <td>123.696144</td>\n",
              "      <td>5.488043</td>\n",
              "      <td>0.392889</td>\n",
              "      <td>Turbine_01</td>\n",
              "      <td>56.621962</td>\n",
              "      <td>49.288458</td>\n",
              "      <td>3.342025</td>\n",
              "      <td>48.370728</td>\n",
              "      <td>54171</td>\n",
              "    </tr>\n",
              "    <tr>\n",
              "      <th>1</th>\n",
              "      <td>2021-08-22 05:33:00</td>\n",
              "      <td>247.187823</td>\n",
              "      <td>248.072744</td>\n",
              "      <td>31.406154</td>\n",
              "      <td>778.351400</td>\n",
              "      <td>56.940449</td>\n",
              "      <td>309.963074</td>\n",
              "      <td>29.224203</td>\n",
              "      <td>31.286025</td>\n",
              "      <td>27.074919</td>\n",
              "      <td>44.535753</td>\n",
              "      <td>319.350937</td>\n",
              "      <td>5.208137</td>\n",
              "      <td>0.452404</td>\n",
              "      <td>Turbine_01</td>\n",
              "      <td>47.564577</td>\n",
              "      <td>49.288458</td>\n",
              "      <td>3.342025</td>\n",
              "      <td>48.370728</td>\n",
              "      <td>54171</td>\n",
              "    </tr>\n",
              "    <tr>\n",
              "      <th>2</th>\n",
              "      <td>2021-05-23 19:49:00</td>\n",
              "      <td>149.306491</td>\n",
              "      <td>1196.192232</td>\n",
              "      <td>35.320692</td>\n",
              "      <td>6.103759</td>\n",
              "      <td>79.718864</td>\n",
              "      <td>1060.928284</td>\n",
              "      <td>32.114172</td>\n",
              "      <td>35.241397</td>\n",
              "      <td>-1.012690</td>\n",
              "      <td>0.809419</td>\n",
              "      <td>318.546015</td>\n",
              "      <td>8.264057</td>\n",
              "      <td>1.382773</td>\n",
              "      <td>Turbine_01</td>\n",
              "      <td>51.007408</td>\n",
              "      <td>49.288458</td>\n",
              "      <td>3.342025</td>\n",
              "      <td>48.370728</td>\n",
              "      <td>54171</td>\n",
              "    </tr>\n",
              "    <tr>\n",
              "      <th>3</th>\n",
              "      <td>2021-11-11 10:49:00</td>\n",
              "      <td>26.142280</td>\n",
              "      <td>39.120330</td>\n",
              "      <td>33.147231</td>\n",
              "      <td>785.187622</td>\n",
              "      <td>50.829192</td>\n",
              "      <td>20.329997</td>\n",
              "      <td>29.411789</td>\n",
              "      <td>32.939673</td>\n",
              "      <td>1.495129</td>\n",
              "      <td>1.374825</td>\n",
              "      <td>159.353495</td>\n",
              "      <td>3.115742</td>\n",
              "      <td>0.527393</td>\n",
              "      <td>Turbine_01</td>\n",
              "      <td>47.833076</td>\n",
              "      <td>49.288458</td>\n",
              "      <td>3.342025</td>\n",
              "      <td>48.370728</td>\n",
              "      <td>54171</td>\n",
              "    </tr>\n",
              "    <tr>\n",
              "      <th>4</th>\n",
              "      <td>2021-07-14 15:08:00</td>\n",
              "      <td>97.355926</td>\n",
              "      <td>102.576240</td>\n",
              "      <td>36.209320</td>\n",
              "      <td>778.595540</td>\n",
              "      <td>51.831118</td>\n",
              "      <td>21.149041</td>\n",
              "      <td>32.748087</td>\n",
              "      <td>36.114233</td>\n",
              "      <td>1.768352</td>\n",
              "      <td>1.642608</td>\n",
              "      <td>148.833809</td>\n",
              "      <td>3.169921</td>\n",
              "      <td>0.521003</td>\n",
              "      <td>Turbine_01</td>\n",
              "      <td>49.604198</td>\n",
              "      <td>49.288458</td>\n",
              "      <td>3.342025</td>\n",
              "      <td>48.370728</td>\n",
              "      <td>54171</td>\n",
              "    </tr>\n",
              "  </tbody>\n",
              "</table>\n",
              "</div>\n",
              "      <button class=\"colab-df-convert\" onclick=\"convertToInteractive('df-b0a7e7c7-5b33-4463-8343-e0bda85670e4')\"\n",
              "              title=\"Convert this dataframe to an interactive table.\"\n",
              "              style=\"display:none;\">\n",
              "        \n",
              "  <svg xmlns=\"http://www.w3.org/2000/svg\" height=\"24px\"viewBox=\"0 0 24 24\"\n",
              "       width=\"24px\">\n",
              "    <path d=\"M0 0h24v24H0V0z\" fill=\"none\"/>\n",
              "    <path d=\"M18.56 5.44l.94 2.06.94-2.06 2.06-.94-2.06-.94-.94-2.06-.94 2.06-2.06.94zm-11 1L8.5 8.5l.94-2.06 2.06-.94-2.06-.94L8.5 2.5l-.94 2.06-2.06.94zm10 10l.94 2.06.94-2.06 2.06-.94-2.06-.94-.94-2.06-.94 2.06-2.06.94z\"/><path d=\"M17.41 7.96l-1.37-1.37c-.4-.4-.92-.59-1.43-.59-.52 0-1.04.2-1.43.59L10.3 9.45l-7.72 7.72c-.78.78-.78 2.05 0 2.83L4 21.41c.39.39.9.59 1.41.59.51 0 1.02-.2 1.41-.59l7.78-7.78 2.81-2.81c.8-.78.8-2.07 0-2.86zM5.41 20L4 18.59l7.72-7.72 1.47 1.35L5.41 20z\"/>\n",
              "  </svg>\n",
              "      </button>\n",
              "      \n",
              "  <style>\n",
              "    .colab-df-container {\n",
              "      display:flex;\n",
              "      flex-wrap:wrap;\n",
              "      gap: 12px;\n",
              "    }\n",
              "\n",
              "    .colab-df-convert {\n",
              "      background-color: #E8F0FE;\n",
              "      border: none;\n",
              "      border-radius: 50%;\n",
              "      cursor: pointer;\n",
              "      display: none;\n",
              "      fill: #1967D2;\n",
              "      height: 32px;\n",
              "      padding: 0 0 0 0;\n",
              "      width: 32px;\n",
              "    }\n",
              "\n",
              "    .colab-df-convert:hover {\n",
              "      background-color: #E2EBFA;\n",
              "      box-shadow: 0px 1px 2px rgba(60, 64, 67, 0.3), 0px 1px 3px 1px rgba(60, 64, 67, 0.15);\n",
              "      fill: #174EA6;\n",
              "    }\n",
              "\n",
              "    [theme=dark] .colab-df-convert {\n",
              "      background-color: #3B4455;\n",
              "      fill: #D2E3FC;\n",
              "    }\n",
              "\n",
              "    [theme=dark] .colab-df-convert:hover {\n",
              "      background-color: #434B5C;\n",
              "      box-shadow: 0px 1px 3px 1px rgba(0, 0, 0, 0.15);\n",
              "      filter: drop-shadow(0px 1px 2px rgba(0, 0, 0, 0.3));\n",
              "      fill: #FFFFFF;\n",
              "    }\n",
              "  </style>\n",
              "\n",
              "      <script>\n",
              "        const buttonEl =\n",
              "          document.querySelector('#df-b0a7e7c7-5b33-4463-8343-e0bda85670e4 button.colab-df-convert');\n",
              "        buttonEl.style.display =\n",
              "          google.colab.kernel.accessAllowed ? 'block' : 'none';\n",
              "\n",
              "        async function convertToInteractive(key) {\n",
              "          const element = document.querySelector('#df-b0a7e7c7-5b33-4463-8343-e0bda85670e4');\n",
              "          const dataTable =\n",
              "            await google.colab.kernel.invokeFunction('convertToInteractive',\n",
              "                                                     [key], {});\n",
              "          if (!dataTable) return;\n",
              "\n",
              "          const docLinkHtml = 'Like what you see? Visit the ' +\n",
              "            '<a target=\"_blank\" href=https://colab.research.google.com/notebooks/data_table.ipynb>data table notebook</a>'\n",
              "            + ' to learn more about interactive tables.';\n",
              "          element.innerHTML = '';\n",
              "          dataTable['output_type'] = 'display_data';\n",
              "          await google.colab.output.renderOutput(dataTable, element);\n",
              "          const docLink = document.createElement('div');\n",
              "          docLink.innerHTML = docLinkHtml;\n",
              "          element.appendChild(docLink);\n",
              "        }\n",
              "      </script>\n",
              "    </div>\n",
              "  </div>\n",
              "  "
            ]
          },
          "metadata": {},
          "execution_count": 11
        }
      ]
    },
    {
      "cell_type": "code",
      "source": [
        "df_train_ext['turbine_id'] = df_train_ext['turbine_id'].factorize()[0]\n",
        "df_test_ext['turbine_id'] = df_test_ext['turbine_id'].factorize()[0]"
      ],
      "metadata": {
        "id": "NFNX1OWK1Lod"
      },
      "execution_count": 12,
      "outputs": []
    },
    {
      "cell_type": "code",
      "source": [
        "feats = df_train_ext.select_dtypes(\"number\").columns\n",
        "target_list = [\"Target\"]\n",
        "feats = [x for x in feats if x not in target_list]"
      ],
      "metadata": {
        "id": "GWqWxW2d1VpX"
      },
      "execution_count": 13,
      "outputs": []
    },
    {
      "cell_type": "code",
      "source": [
        "feats"
      ],
      "metadata": {
        "colab": {
          "base_uri": "https://localhost:8080/"
        },
        "id": "h67lV6fF1geJ",
        "outputId": "f8c24ced-e20a-4b52-ff17-31bea437b477"
      },
      "execution_count": 14,
      "outputs": [
        {
          "output_type": "execute_result",
          "data": {
            "text/plain": [
              "['active_power_calculated_by_converter',\n",
              " 'active_power_raw',\n",
              " 'ambient_temperature',\n",
              " 'generator_speed',\n",
              " 'generator_winding_temp_max',\n",
              " 'grid_power10min_average',\n",
              " 'nc1_inside_temp',\n",
              " 'nacelle_temp',\n",
              " 'reactice_power_calculated_by_converter',\n",
              " 'reactive_power',\n",
              " 'wind_direction_raw',\n",
              " 'wind_speed_raw',\n",
              " 'wind_speed_turbulence',\n",
              " 'turbine_id',\n",
              " 'mean',\n",
              " 'std',\n",
              " 'median',\n",
              " 'size']"
            ]
          },
          "metadata": {},
          "execution_count": 14
        }
      ]
    },
    {
      "cell_type": "code",
      "source": [
        "X_train = df_train_ext[feats].values\n",
        "y_train = df_train[\"Target\"].values\n",
        "X_test = df_test_ext[feats].values"
      ],
      "metadata": {
        "id": "UhBAC7yS1jG6"
      },
      "execution_count": 15,
      "outputs": []
    },
    {
      "cell_type": "code",
      "source": [
        "df_train[\"Target_log\"] = np.log( df_train['Target'] )\n",
        "#df_train['Target_log'].hist(bins=50);"
      ],
      "metadata": {
        "id": "ex3YRt0a1scO"
      },
      "execution_count": 16,
      "outputs": []
    },
    {
      "cell_type": "code",
      "source": [
        "y_train = df_train[\"Target_log\"].values"
      ],
      "metadata": {
        "id": "LwOKW19U1yHO"
      },
      "execution_count": 17,
      "outputs": []
    },
    {
      "cell_type": "code",
      "source": [
        "model = xgb.XGBRegressor(max_depth=7, n_estimators=100,learning_rate=0.1, random_state=0)\n",
        "model.fit(X_train,y_train)\n",
        "y_log_pred = model.predict(X_test)"
      ],
      "metadata": {
        "id": "jD17NFIe2I0q"
      },
      "execution_count": 18,
      "outputs": []
    },
    {
      "cell_type": "code",
      "source": [
        "y_pred = np.exp(y_log_pred)"
      ],
      "metadata": {
        "id": "x_iPkut73W6g"
      },
      "execution_count": 19,
      "outputs": []
    },
    {
      "cell_type": "code",
      "source": [
        "df_test[\"Target\"] = y_pred"
      ],
      "metadata": {
        "id": "YrMOgAK-3bUR"
      },
      "execution_count": 20,
      "outputs": []
    },
    {
      "cell_type": "code",
      "source": [
        "df_test[ [\"Target\"] ].to_csv('../content/drive/MyDrive/ReNew_Participants_Data/simple_submission_log_ext.csv', index=False)"
      ],
      "metadata": {
        "id": "kwMpr7J83dqZ"
      },
      "execution_count": 21,
      "outputs": []
    },
    {
      "cell_type": "code",
      "source": [],
      "metadata": {
        "id": "fYTIGhrMBXql"
      },
      "execution_count": null,
      "outputs": []
    }
  ]
}